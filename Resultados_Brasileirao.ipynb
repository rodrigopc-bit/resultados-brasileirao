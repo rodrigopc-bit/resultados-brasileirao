{
  "nbformat": 4,
  "nbformat_minor": 0,
  "metadata": {
    "colab": {
      "name": "Resultados Brasileirao.ipynb",
      "provenance": [],
      "collapsed_sections": []
    },
    "kernelspec": {
      "name": "python3",
      "display_name": "Python 3"
    },
    "language_info": {
      "name": "python"
    }
  },
  "cells": [
    {
      "cell_type": "code",
      "execution_count": null,
      "metadata": {
        "id": "z2JO1b4t4aR5",
        "colab": {
          "base_uri": "https://localhost:8080/"
        },
        "outputId": "9d3c7c69-eea0-48ef-fa01-0c97bc5faa45"
      },
      "outputs": [
        {
          "output_type": "stream",
          "name": "stdout",
          "text": [
            "[12  2 17  9  3  5 13 19  4 16 14  0  8 10 18 11  6 15  1  7  6  1 12 17\n",
            "  3 18 16  2  4 13 11  0  7 14 10  5  8  9 15 19  3  1 11 17  2  6 18 16\n",
            " 13  4 17  7  3 15 12 19  9  5  4 14  6 11  2 18 16  0 10  8 13  1 14 19\n",
            " 13 18  9 12  8 10  3 15  0  7  4  1  2 16 11 17  6  5 10  0 16  6  2 12\n",
            " 18 17 13  9]\n",
            "[18 11  7 14 15  8 10  1  0  6 17 16  4 12  9 19  2 13  3  5 19 11 15  8\n",
            "  9  0 10  5 14  7 17  1  6  3  2 16 13 12  4 18  0  7  5 12 14  8 10 15\n",
            " 19  9  6 11  2  8  1 10  0 13 16 18  3 14  9  7 17  5 15 19 12  4  6  7\n",
            " 16 17  5 11  0  1  4  2 10  9 19 18  8 12 13  3 15 14  8  7  1 11  4  3\n",
            " 15  5 14 19]\n",
            "[1 1 0 2 2 0 0 2 2 1 1 2 2 0 2 2 2 2 0 0 1 2 0 2 1 2 0 1 2 0 1 2 0 1 1 1 2\n",
            " 2 1 2 0 2 0 1 0 0 0 1 1 0 2 1 2 1 2 2 2 2 0 2 1 2 2 1 0 1 1 1 0 2 1 1 1 0\n",
            " 2 0 1 0 2 1 2 1 1 1 0 2 0 1 0 0 2 0 0 2 2 2 1 2 1 1]\n"
          ]
        },
        {
          "output_type": "execute_result",
          "data": {
            "text/plain": [
              "[(12, 18),\n",
              " (2, 11),\n",
              " (17, 7),\n",
              " (9, 14),\n",
              " (3, 15),\n",
              " (5, 8),\n",
              " (13, 10),\n",
              " (19, 1),\n",
              " (4, 0),\n",
              " (16, 6),\n",
              " (14, 17),\n",
              " (0, 16),\n",
              " (8, 4),\n",
              " (10, 12),\n",
              " (18, 9),\n",
              " (11, 19),\n",
              " (6, 2),\n",
              " (15, 13),\n",
              " (1, 3),\n",
              " (7, 5),\n",
              " (6, 19),\n",
              " (1, 11),\n",
              " (12, 15),\n",
              " (17, 8),\n",
              " (3, 9),\n",
              " (18, 0),\n",
              " (16, 10),\n",
              " (2, 5),\n",
              " (4, 14),\n",
              " (13, 7),\n",
              " (11, 17),\n",
              " (0, 1),\n",
              " (7, 6),\n",
              " (14, 3),\n",
              " (10, 2),\n",
              " (5, 16),\n",
              " (8, 13),\n",
              " (9, 12),\n",
              " (15, 4),\n",
              " (19, 18),\n",
              " (3, 0),\n",
              " (1, 7),\n",
              " (11, 5),\n",
              " (17, 12),\n",
              " (2, 14),\n",
              " (6, 8),\n",
              " (18, 10),\n",
              " (16, 15),\n",
              " (13, 19),\n",
              " (4, 9),\n",
              " (17, 6),\n",
              " (7, 11),\n",
              " (3, 2),\n",
              " (15, 8),\n",
              " (12, 1),\n",
              " (19, 10),\n",
              " (9, 0),\n",
              " (5, 13),\n",
              " (4, 16),\n",
              " (14, 18),\n",
              " (6, 3),\n",
              " (11, 14),\n",
              " (2, 9),\n",
              " (18, 7),\n",
              " (16, 17),\n",
              " (0, 5),\n",
              " (10, 15),\n",
              " (8, 19),\n",
              " (13, 12),\n",
              " (1, 4),\n",
              " (14, 6),\n",
              " (19, 7),\n",
              " (13, 16),\n",
              " (18, 17),\n",
              " (9, 5),\n",
              " (12, 11),\n",
              " (8, 0),\n",
              " (10, 1),\n",
              " (3, 4),\n",
              " (15, 2),\n",
              " (0, 10),\n",
              " (7, 9),\n",
              " (4, 19),\n",
              " (1, 18),\n",
              " (2, 8),\n",
              " (16, 12),\n",
              " (11, 13),\n",
              " (17, 3),\n",
              " (6, 15),\n",
              " (5, 14),\n",
              " (10, 8),\n",
              " (0, 7),\n",
              " (16, 1),\n",
              " (6, 11),\n",
              " (2, 4),\n",
              " (12, 3),\n",
              " (18, 15),\n",
              " (17, 5),\n",
              " (13, 14),\n",
              " (9, 19)]"
            ]
          },
          "metadata": {},
          "execution_count": 9
        }
      ],
      "source": [
        "equipeCasa=['Fluminense', 'Atletico-GO', 'Palmeiras', 'Coritiba', 'Atletico-MG', 'Botafogo', 'Fortaleza', 'Sao Paulo', 'Avai', 'Juventude',\n",
        "            'Goias', 'America-MG', 'Corinthians', 'Cuiaba', 'Santos', 'Flamengo', 'Bragantino', 'Internacional', 'Athletico-PR', 'Ceara',\n",
        "            'Bragantino', 'Athletico-PR', 'Fluminense', 'Palmeiras', 'Atletico-MG', 'Santos', 'Juventude', 'Atletico-GO', 'Avai', 'Fortaleza',\n",
        "            'Flamengo', 'America-MG', 'Ceara', 'Goias', 'Cuiaba', 'Botafogo', 'Corinthians', 'Coritiba', 'Internacional', 'Sao Paulo',\n",
        "            'Atletico-MG', 'Athletico-PR', 'Flamengo', 'Palmeiras', 'Atletico-GO', 'Bragantino', 'Santos', 'Juventude', 'Fortaleza', 'Avai',\n",
        "            'Palmeiras', 'Ceara', 'Atletico-MG', 'Internacional', 'Fluminense', 'Sao Paulo', 'Coritiba', 'Botafogo', 'Avai', 'Goias',\n",
        "            'Bragantino', 'Flamengo', 'Atletico-GO', 'Santos', 'Juventude', 'America-MG', 'Cuiaba', 'Corinthians', 'Fortaleza', 'Athletico-PR',\n",
        "            'Goias', 'Sao Paulo', 'Fortaleza', 'Santos', 'Coritiba', 'Fluminense', 'Corinthians', 'Cuiaba', 'Atletico-MG', 'Internacional',\n",
        "            'America-MG', 'Ceara', 'Avai', 'Athletico-PR', 'Atletico-GO', 'Juventude', 'Flamengo', 'Palmeiras', 'Bragantino', 'Botafogo',\n",
        "            'Cuiaba', 'America-MG', 'Juventude', 'Bragantino', 'Atletico-GO', 'Fluminense', 'Santos', 'Palmeiras', 'Fortaleza', 'Coritiba']\n",
        "\n",
        "equipeFora=['Santos', 'Flamengo', 'Ceara', 'Goias', 'Internacional', 'Corinthians', 'Cuiaba', 'Athletico-PR', 'America-MG', 'Bragantino',\n",
        "            'Palmeiras', 'Juventude', 'Avai', 'Fluminense', 'Coritiba', 'Sao Paulo', 'Atletico-GO', 'Fortaleza', 'Atletico-MG', 'Botafogo',\n",
        "            'Sao Paulo', 'Flamengo', 'Internacional', 'Corinthians', 'Coritiba', 'America-MG', 'Cuiaba', 'Botafogo', 'Goias', 'Ceara',\n",
        "            'Palmeiras', 'Athletico-PR', 'Bragantino', 'Atletico-MG', 'Atletico-GO', 'Juventude', 'Fortaleza', 'Fluminense', 'Avai', 'Santos',\n",
        "            'America-MG', 'Ceara', 'Botafogo', 'Fluminense', 'Goias', 'Corinthians', 'Cuiaba', 'Internacional', 'Sao Paulo', 'Coritiba',\n",
        "            'Bragantino', 'Flamengo', 'Atletico-GO', 'Corinthians', 'Athletico-PR', 'Cuiaba', 'America-MG', 'Fortaleza', 'Juventude', 'Santos',\n",
        "            'Atletico-MG', 'Goias', 'Coritiba', 'Ceara', 'Palmeiras', 'Botafogo', 'Internacional', 'Sao Paulo', 'Fluminense', 'Avai',\n",
        "            'Bragantino', 'Ceara', 'Juventude', 'Palmeiras', 'Botafogo', 'Flamengo', 'America-MG', 'Athletico-PR', 'Avai', 'Atletico-GO',\n",
        "            'Cuiaba', 'Coritiba', 'Sao Paulo', 'Santos', 'Corinthians', 'Fluminense', 'Fortaleza', 'Atletico-MG', 'Internacional', 'Goias',\n",
        "            'Corinthians', 'Ceara', 'Athletico-PR', 'Flamengo', 'Avai', 'Atletico-MG', 'Internacional', 'Botafogo', 'Goias', 'Sao Paulo']\n",
        "\n",
        "resultadoPartida=['Empate', 'Empate', 'Derrota', 'Vitoria', 'Vitoria', 'Derrota', 'Derrota', 'Vitoria', 'Vitoria', 'Empate',\n",
        "                  'Empate', 'Vitoria', 'Vitoria', 'Derrota', 'Vitoria', 'Vitoria', 'Vitoria', 'Vitoria', 'Derrota', 'Derrota',\n",
        "                  'Empate', 'Vitoria', 'Derrota', 'Vitoria', 'Empate', 'Vitoria', 'Derrota', 'Empate', 'Vitoria', 'Derrota',\n",
        "                  'Empate', 'Vitoria', 'Derrota', 'Empate', 'Empate', 'Empate', 'Vitoria', 'Vitoria', 'Empate', 'Vitoria',\n",
        "                  'Derrota', 'Vitoria', 'Derrota', 'Empate', 'Derrota', 'Derrota', 'Derrota', 'Empate', 'Empate', 'Derrota',\n",
        "                  'Vitoria', 'Empate', 'Vitoria', 'Empate', 'Vitoria', 'Vitoria', 'Vitoria', 'Vitoria', 'Derrota', 'Vitoria',\n",
        "                  'Empate', 'Vitoria', 'Vitoria', 'Empate', 'Derrota', 'Empate', 'Empate', 'Empate', 'Derrota', 'Vitoria',\n",
        "                  'Empate', 'Empate', 'Empate', 'Derrota', 'Vitoria', 'Derrota', 'Empate', 'Derrota', 'Vitoria', 'Empate',\n",
        "                  'Vitoria', 'Empate', 'Empate', 'Empate', 'Derrota', 'Vitoria', 'Derrota', 'Empate', 'Derrota', 'Derrota',\n",
        "                  'Vitoria', 'Derrota', 'Derrota', 'Vitoria', 'Vitoria', 'Vitoria', 'Empate', 'Vitoria', 'Empate', 'Empate']\n",
        "\n",
        "from sklearn import preprocessing\n",
        "\n",
        "le = preprocessing.LabelEncoder()\n",
        "\n",
        "equipeCasa_encoded = le.fit_transform(equipeCasa)\n",
        "equipeFora_encoded = le.fit_transform(equipeFora)\n",
        "print(equipeCasa_encoded)\n",
        "print(equipeFora_encoded)\n",
        "\n",
        "resultadoPartida_encoded = le.fit_transform(resultadoPartida)\n",
        "print(resultadoPartida_encoded)\n",
        "\n",
        "partidas = list(zip(equipeCasa_encoded, equipeFora_encoded))\n",
        "partidas"
      ]
    },
    {
      "cell_type": "code",
      "source": [
        "from sklearn.naive_bayes import GaussianNB\n",
        "import numpy as np\n",
        "\n",
        "modelo = GaussianNB()\n",
        "\n",
        "modelo.fit(partidas, resultadoPartida_encoded)"
      ],
      "metadata": {
        "colab": {
          "base_uri": "https://localhost:8080/"
        },
        "id": "l-QWcAxSw6_T",
        "outputId": "12cbc338-b03e-4159-d2e7-b07cb74b4c5f"
      },
      "execution_count": null,
      "outputs": [
        {
          "output_type": "execute_result",
          "data": {
            "text/plain": [
              "GaussianNB()"
            ]
          },
          "metadata": {},
          "execution_count": 10
        }
      ]
    },
    {
      "cell_type": "code",
      "source": [
        "predicao = modelo.predict([[10, 8], [0, 7], [16, 1], [6, 11], [2, 4], [12, 3], [18, 15], [17, 5], [13, 14], [9, 19]])\n",
        "print(predicao)"
      ],
      "metadata": {
        "colab": {
          "base_uri": "https://localhost:8080/"
        },
        "id": "BKJnrM0n9vJg",
        "outputId": "b84f94dc-c773-4b84-f32d-2a7afe3ead6a"
      },
      "execution_count": null,
      "outputs": [
        {
          "output_type": "stream",
          "name": "stdout",
          "text": [
            "[0 2 2 0 2 2 1 2 1 1]\n"
          ]
        }
      ]
    },
    {
      "cell_type": "markdown",
      "source": [
        "### **TIMES**\n",
        "0 - America-MG\n",
        "<br> 1 - Athletico-PR\n",
        "<br> 2 - Atletico-GO\n",
        "<br> 3 - Atletico-MG\n",
        "<br> 4 - Avai\n",
        "<br> 5 - Botafogo\n",
        "<br> 6 - Bragantino\n",
        "<br> 7 - Ceara\n",
        "<br> 8 - Corinthians\n",
        "<br> 9 - Coritiba\n",
        "<br> 10 - Cuiaba\n",
        "<br> 11 - Flamengo\n",
        "<br> 12 - Fluminense\n",
        "<br> 13 - Fortaleza\n",
        "<br> 14 - Goias\n",
        "<br> 15 - Internacional\n",
        "<br> 16 - Juventude\n",
        "<br> 17 - Palmeiras\n",
        "<br> 18 - Santos\n",
        "<br> 19 - Sao Paulo"
      ],
      "metadata": {
        "id": "idPrAR1lLpr1"
      }
    }
  ]
}